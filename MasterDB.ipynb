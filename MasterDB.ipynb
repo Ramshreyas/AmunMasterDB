{
 "cells": [
  {
   "cell_type": "code",
   "execution_count": 22,
   "id": "cd68e104-05f5-4a31-a7af-964165ac129a",
   "metadata": {},
   "outputs": [],
   "source": [
    "# Common libraries\n",
    "import matplotlib.pyplot as plt\n",
    "from datetime import datetime\n",
    "import requests\n",
    "import json \n",
    "import pandas as pd"
   ]
  },
  {
   "cell_type": "code",
   "execution_count": 20,
   "id": "3ae9ae34-a6ba-4d06-950d-5d2add448101",
   "metadata": {},
   "outputs": [
    {
     "data": {
      "text/html": [
       "<div>\n",
       "<style scoped>\n",
       "    .dataframe tbody tr th:only-of-type {\n",
       "        vertical-align: middle;\n",
       "    }\n",
       "\n",
       "    .dataframe tbody tr th {\n",
       "        vertical-align: top;\n",
       "    }\n",
       "\n",
       "    .dataframe thead th {\n",
       "        text-align: right;\n",
       "    }\n",
       "</style>\n",
       "<table border=\"1\" class=\"dataframe\">\n",
       "  <thead>\n",
       "    <tr style=\"text-align: right;\">\n",
       "      <th></th>\n",
       "      <th>id</th>\n",
       "      <th>exchange_id</th>\n",
       "      <th>base_asset_id</th>\n",
       "      <th>quote_asset_id</th>\n",
       "      <th>trade_start</th>\n",
       "      <th>trade_end</th>\n",
       "      <th>version</th>\n",
       "      <th>excluded_from_price</th>\n",
       "      <th>exchange_name</th>\n",
       "      <th>base_asset_symbol</th>\n",
       "      <th>quote_asset_symbol</th>\n",
       "      <th>pair</th>\n",
       "      <th>price_usd</th>\n",
       "      <th>vwap_weight</th>\n",
       "      <th>volume_last_24_hours</th>\n",
       "      <th>has_real_volume</th>\n",
       "      <th>deviation_from_vwap_percent</th>\n",
       "      <th>last_trade_at</th>\n",
       "    </tr>\n",
       "    <tr>\n",
       "      <th>exchange_slug</th>\n",
       "      <th></th>\n",
       "      <th></th>\n",
       "      <th></th>\n",
       "      <th></th>\n",
       "      <th></th>\n",
       "      <th></th>\n",
       "      <th></th>\n",
       "      <th></th>\n",
       "      <th></th>\n",
       "      <th></th>\n",
       "      <th></th>\n",
       "      <th></th>\n",
       "      <th></th>\n",
       "      <th></th>\n",
       "      <th></th>\n",
       "      <th></th>\n",
       "      <th></th>\n",
       "      <th></th>\n",
       "    </tr>\n",
       "  </thead>\n",
       "  <tbody>\n",
       "    <tr>\n",
       "      <th>uniswap-v3</th>\n",
       "      <td>00029600-7335-4a57-94ff-87beffaf8b97</td>\n",
       "      <td>65d7db09-764a-41a8-ac63-50a2d296f874</td>\n",
       "      <td>e23572af-c451-4bed-a085-361f9c207589</td>\n",
       "      <td>4d7b4b96-ecd1-47f7-b8ec-c054dd78b7ed</td>\n",
       "      <td>None</td>\n",
       "      <td>None</td>\n",
       "      <td>1</td>\n",
       "      <td>True</td>\n",
       "      <td>Uniswap (v3)</td>\n",
       "      <td>QBU</td>\n",
       "      <td>WETH</td>\n",
       "      <td>QBU-WETH</td>\n",
       "      <td>NaN</td>\n",
       "      <td>1.0</td>\n",
       "      <td>NaN</td>\n",
       "      <td>True</td>\n",
       "      <td>NaN</td>\n",
       "      <td>None</td>\n",
       "    </tr>\n",
       "  </tbody>\n",
       "</table>\n",
       "</div>"
      ],
      "text/plain": [
       "                                                 id  \\\n",
       "exchange_slug                                         \n",
       "uniswap-v3     00029600-7335-4a57-94ff-87beffaf8b97   \n",
       "\n",
       "                                        exchange_id  \\\n",
       "exchange_slug                                         \n",
       "uniswap-v3     65d7db09-764a-41a8-ac63-50a2d296f874   \n",
       "\n",
       "                                      base_asset_id  \\\n",
       "exchange_slug                                         \n",
       "uniswap-v3     e23572af-c451-4bed-a085-361f9c207589   \n",
       "\n",
       "                                     quote_asset_id trade_start trade_end  \\\n",
       "exchange_slug                                                               \n",
       "uniswap-v3     4d7b4b96-ecd1-47f7-b8ec-c054dd78b7ed        None      None   \n",
       "\n",
       "               version  excluded_from_price exchange_name base_asset_symbol  \\\n",
       "exchange_slug                                                                 \n",
       "uniswap-v3           1                 True  Uniswap (v3)               QBU   \n",
       "\n",
       "              quote_asset_symbol      pair  price_usd  vwap_weight  \\\n",
       "exchange_slug                                                        \n",
       "uniswap-v3                  WETH  QBU-WETH        NaN          1.0   \n",
       "\n",
       "               volume_last_24_hours  has_real_volume  \\\n",
       "exchange_slug                                          \n",
       "uniswap-v3                      NaN             True   \n",
       "\n",
       "               deviation_from_vwap_percent last_trade_at  \n",
       "exchange_slug                                             \n",
       "uniswap-v3                             NaN          None  "
      ]
     },
     "execution_count": 20,
     "metadata": {},
     "output_type": "execute_result"
    }
   ],
   "source": [
    "# Messari initialization\n",
    "from messari.messari import Messari\n",
    "m = Messari('cb0d3a33-c4c5-4b50-9fff-5dce65d44b97')\n",
    "\n",
    "# Test messari\n",
    "markets_df = m.get_all_markets()\n",
    "markets_df.head(1)"
   ]
  },
  {
   "cell_type": "code",
   "execution_count": 19,
   "id": "dd9a6444-8d71-45f7-884d-4a7967319ce1",
   "metadata": {},
   "outputs": [
    {
     "data": {
      "text/plain": [
       "{'ethereum': {'usd': 3108.61,\n",
       "  'usd_market_cap': 374027814897.38513,\n",
       "  'btc': 0.07539659,\n",
       "  'btc_market_cap': 9071768.878783718}}"
      ]
     },
     "execution_count": 19,
     "metadata": {},
     "output_type": "execute_result"
    }
   ],
   "source": [
    "# Coingecko initialization\n",
    "from pycoingecko import CoinGeckoAPI\n",
    "cg = CoinGeckoAPI()\n",
    "\n",
    "# Test coingecko\n",
    "coingecko_eth_data = cg.get_price(ids='ethereum',vs_currencies='usd,btc',include_market_cap='true')\n",
    "coingecko_eth_data"
   ]
  },
  {
   "cell_type": "code",
   "execution_count": 17,
   "id": "37aded8d-99f2-477b-b62d-234425477d6a",
   "metadata": {},
   "outputs": [
    {
     "data": {
      "text/plain": [
       "{'date': 1578614400, 'totalLiquidityUSD': 481703.1835921449}"
      ]
     },
     "execution_count": 17,
     "metadata": {},
     "output_type": "execute_result"
    }
   ],
   "source": [
    "# DefiLLama initialization & test\n",
    "tvl = requests.get('https://api.llama.fi/protocol/aave').json()['tvl']\n",
    "tvl[1]"
   ]
  },
  {
   "cell_type": "code",
   "execution_count": 23,
   "id": "c2af785d-2f7c-4425-a2d8-92ed97044bf1",
   "metadata": {},
   "outputs": [
    {
     "data": {
      "text/html": [
       "<div>\n",
       "<style scoped>\n",
       "    .dataframe tbody tr th:only-of-type {\n",
       "        vertical-align: middle;\n",
       "    }\n",
       "\n",
       "    .dataframe tbody tr th {\n",
       "        vertical-align: top;\n",
       "    }\n",
       "\n",
       "    .dataframe thead th {\n",
       "        text-align: right;\n",
       "    }\n",
       "</style>\n",
       "<table border=\"1\" class=\"dataframe\">\n",
       "  <thead>\n",
       "    <tr style=\"text-align: right;\">\n",
       "      <th></th>\n",
       "      <th>t</th>\n",
       "      <th>v</th>\n",
       "    </tr>\n",
       "  </thead>\n",
       "  <tbody>\n",
       "    <tr>\n",
       "      <th>0</th>\n",
       "      <td>2010-07-17</td>\n",
       "      <td>1.000000</td>\n",
       "    </tr>\n",
       "    <tr>\n",
       "      <th>1</th>\n",
       "      <td>2010-07-18</td>\n",
       "      <td>1.174760</td>\n",
       "    </tr>\n",
       "    <tr>\n",
       "      <th>2</th>\n",
       "      <td>2010-07-19</td>\n",
       "      <td>1.318536</td>\n",
       "    </tr>\n",
       "    <tr>\n",
       "      <th>3</th>\n",
       "      <td>2010-07-20</td>\n",
       "      <td>1.090517</td>\n",
       "    </tr>\n",
       "    <tr>\n",
       "      <th>4</th>\n",
       "      <td>2010-07-21</td>\n",
       "      <td>1.065532</td>\n",
       "    </tr>\n",
       "  </tbody>\n",
       "</table>\n",
       "</div>"
      ],
      "text/plain": [
       "           t         v\n",
       "0 2010-07-17  1.000000\n",
       "1 2010-07-18  1.174760\n",
       "2 2010-07-19  1.318536\n",
       "3 2010-07-20  1.090517\n",
       "4 2010-07-21  1.065532"
      ]
     },
     "execution_count": 23,
     "metadata": {},
     "output_type": "execute_result"
    }
   ],
   "source": [
    "# Glassnode initialization\n",
    "API_KEY = '27mKdxqslM3aORzuco6LoqzKjFc'\n",
    "\n",
    "# make API request\n",
    "res = requests.get('https://api.glassnode.com/v1/metrics/indicators/sopr',\n",
    "    params={'a': 'BTC', 'api_key': API_KEY})\n",
    "\n",
    "# convert to pandas dataframe\n",
    "df = pd.read_json(res.text, convert_dates=['t'])\n",
    "df.head()"
   ]
  },
  {
   "cell_type": "code",
   "execution_count": null,
   "id": "4dcb6109-f4d2-43ae-96ca-8aabe6d1c75a",
   "metadata": {},
   "outputs": [],
   "source": []
  }
 ],
 "metadata": {
  "kernelspec": {
   "display_name": "Python 3 (ipykernel)",
   "language": "python",
   "name": "python3"
  },
  "language_info": {
   "codemirror_mode": {
    "name": "ipython",
    "version": 3
   },
   "file_extension": ".py",
   "mimetype": "text/x-python",
   "name": "python",
   "nbconvert_exporter": "python",
   "pygments_lexer": "ipython3",
   "version": "3.7.11"
  }
 },
 "nbformat": 4,
 "nbformat_minor": 5
}
