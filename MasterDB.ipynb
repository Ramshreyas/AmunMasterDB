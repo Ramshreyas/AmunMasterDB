{
 "cells": [
  {
   "cell_type": "code",
   "execution_count": 29,
   "id": "cd68e104-05f5-4a31-a7af-964165ac129a",
   "metadata": {},
   "outputs": [],
   "source": [
    "# Common libraries\n",
    "import matplotlib.pyplot as plt\n",
    "from datetime import datetime\n",
    "import requests\n",
    "import json \n",
    "import pandas as pd\n",
    "\n",
    "# API setup\n",
    "from messari.messari import Messari                   # Messari\n",
    "m = Messari('cb0d3a33-c4c5-4b50-9fff-5dce65d44b97')   # Messari\n",
    "from pycoingecko import CoinGeckoAPI                  # Coingecko\n",
    "cg = CoinGeckoAPI()                                   # Coingecko\n",
    "API_KEY = '27mKdxqslM3aORzuco6LoqzKjFc'               # Glassnode"
   ]
  },
  {
   "cell_type": "code",
   "execution_count": 39,
   "id": "63f08d0e-fa71-4ca6-9e0b-91522b7b9508",
   "metadata": {},
   "outputs": [],
   "source": [
    "columns = [\"Ticker\", \"PriceUSD\", \"Name\", \"Category1\", \"MarketCap\", \"TotalSupply\", \"CirculatingSupply\", \"TVL\", \"TotalAddresses\", \"ActiveAdresses\", \"Category2\", \"Category3\"] "
   ]
  },
  {
   "cell_type": "code",
   "execution_count": 40,
   "id": "eaaa2ee9-84e1-4f28-9683-df9d650bd280",
   "metadata": {},
   "outputs": [],
   "source": [
    "master = pd.DataFrame(columns = columns)"
   ]
  },
  {
   "cell_type": "code",
   "execution_count": 49,
   "id": "328af27f-b709-4d48-97ce-f0f3cb55b551",
   "metadata": {},
   "outputs": [
    {
     "data": {
      "text/html": [
       "<div>\n",
       "<style scoped>\n",
       "    .dataframe tbody tr th:only-of-type {\n",
       "        vertical-align: middle;\n",
       "    }\n",
       "\n",
       "    .dataframe tbody tr th {\n",
       "        vertical-align: top;\n",
       "    }\n",
       "\n",
       "    .dataframe thead th {\n",
       "        text-align: right;\n",
       "    }\n",
       "</style>\n",
       "<table border=\"1\" class=\"dataframe\">\n",
       "  <thead>\n",
       "    <tr style=\"text-align: right;\">\n",
       "      <th></th>\n",
       "      <th>Ticker</th>\n",
       "      <th>Name</th>\n",
       "      <th>Category1</th>\n",
       "      <th>MarketCap</th>\n",
       "      <th>TotalSupply</th>\n",
       "      <th>CirculatingSupply</th>\n",
       "      <th>TVL</th>\n",
       "      <th>TotalAddresses</th>\n",
       "      <th>ActiveAdresses</th>\n",
       "      <th>Category2</th>\n",
       "      <th>Category3</th>\n",
       "    </tr>\n",
       "  </thead>\n",
       "  <tbody>\n",
       "    <tr>\n",
       "      <th>0</th>\n",
       "      <td>btc</td>\n",
       "      <td>NaN</td>\n",
       "      <td>NaN</td>\n",
       "      <td>NaN</td>\n",
       "      <td>NaN</td>\n",
       "      <td>NaN</td>\n",
       "      <td>NaN</td>\n",
       "      <td>NaN</td>\n",
       "      <td>NaN</td>\n",
       "      <td>NaN</td>\n",
       "      <td>NaN</td>\n",
       "    </tr>\n",
       "    <tr>\n",
       "      <th>1</th>\n",
       "      <td>eth</td>\n",
       "      <td>NaN</td>\n",
       "      <td>NaN</td>\n",
       "      <td>NaN</td>\n",
       "      <td>NaN</td>\n",
       "      <td>NaN</td>\n",
       "      <td>NaN</td>\n",
       "      <td>NaN</td>\n",
       "      <td>NaN</td>\n",
       "      <td>NaN</td>\n",
       "      <td>NaN</td>\n",
       "    </tr>\n",
       "    <tr>\n",
       "      <th>2</th>\n",
       "      <td>usdt</td>\n",
       "      <td>NaN</td>\n",
       "      <td>NaN</td>\n",
       "      <td>NaN</td>\n",
       "      <td>NaN</td>\n",
       "      <td>NaN</td>\n",
       "      <td>NaN</td>\n",
       "      <td>NaN</td>\n",
       "      <td>NaN</td>\n",
       "      <td>NaN</td>\n",
       "      <td>NaN</td>\n",
       "    </tr>\n",
       "  </tbody>\n",
       "</table>\n",
       "</div>"
      ],
      "text/plain": [
       "  Ticker Name Category1 MarketCap TotalSupply CirculatingSupply  TVL  \\\n",
       "0    btc  NaN       NaN       NaN         NaN               NaN  NaN   \n",
       "1    eth  NaN       NaN       NaN         NaN               NaN  NaN   \n",
       "2   usdt  NaN       NaN       NaN         NaN               NaN  NaN   \n",
       "\n",
       "  TotalAddresses ActiveAdresses Category2 Category3  \n",
       "0            NaN            NaN       NaN       NaN  \n",
       "1            NaN            NaN       NaN       NaN  \n",
       "2            NaN            NaN       NaN       NaN  "
      ]
     },
     "execution_count": 49,
     "metadata": {},
     "output_type": "execute_result"
    }
   ],
   "source": [
    "symbols_df = pd.DataFrame(cg.get_coins_markets('usd'))\n",
    "symbols = symbols_df['symbol']\n",
    "master['Ticker'] = symbols\n",
    "master.head()"
   ]
  },
  {
   "cell_type": "code",
   "execution_count": null,
   "id": "8274b0ba-9906-4518-9da7-0e20de3fd2ba",
   "metadata": {},
   "outputs": [],
   "source": []
  }
 ],
 "metadata": {
  "kernelspec": {
   "display_name": "Python 3 (ipykernel)",
   "language": "python",
   "name": "python3"
  },
  "language_info": {
   "codemirror_mode": {
    "name": "ipython",
    "version": 3
   },
   "file_extension": ".py",
   "mimetype": "text/x-python",
   "name": "python",
   "nbconvert_exporter": "python",
   "pygments_lexer": "ipython3",
   "version": "3.7.11"
  }
 },
 "nbformat": 4,
 "nbformat_minor": 5
}
