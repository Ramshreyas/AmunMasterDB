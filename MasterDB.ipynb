{
 "cells": [
  {
   "cell_type": "markdown",
   "id": "091838ef-ac4b-46f3-bc8c-1ebb41c8f8fb",
   "metadata": {},
   "source": [
    "## SETUP"
   ]
  },
  {
   "cell_type": "markdown",
   "id": "de9f4b14-ff45-4366-a1e2-7a511c9a0285",
   "metadata": {},
   "source": [
    "##### Libraries & API Setup"
   ]
  },
  {
   "cell_type": "code",
   "execution_count": 1,
   "id": "b37ce565-97e3-48d0-826d-075d553411c5",
   "metadata": {},
   "outputs": [],
   "source": [
    "from setup import setup\n",
    "from utils import update, returns_df, plot_prices, plot_returns, plot_tvl\n",
    "cg, m = setup()"
   ]
  },
  {
   "cell_type": "markdown",
   "id": "181de407-70e2-4517-817f-42ba278942b5",
   "metadata": {},
   "source": [
    "##### Import Data"
   ]
  },
  {
   "cell_type": "code",
   "execution_count": 2,
   "id": "4ad0bb87-4d62-4426-83c5-e54df9d334d7",
   "metadata": {},
   "outputs": [],
   "source": [
    "start = '2022-01-01'\n",
    "end = '2022-03-31'\n",
    "sector = ('UNI', 'CRV', 'LRC', 'SUSHI')\n",
    "\n",
    "cdata, mdata, ldata, prices, asset_returns, master = update(sector, start, end, cg, m)"
   ]
  },
  {
   "cell_type": "markdown",
   "id": "bbe625ea-e912-4ed7-a837-fae1e0fe070b",
   "metadata": {},
   "source": [
    "## METRICS"
   ]
  },
  {
   "cell_type": "markdown",
   "id": "59698c2f-3e80-4879-a50e-ee33413c29c6",
   "metadata": {},
   "source": [
    "### Price Action "
   ]
  },
  {
   "cell_type": "code",
   "execution_count": 3,
   "id": "5d8c7a65-de3b-4563-bfab-c5538533863f",
   "metadata": {},
   "outputs": [
    {
     "ename": "NameError",
     "evalue": "name 'prices' is not defined",
     "output_type": "error",
     "traceback": [
      "\u001b[1;31m---------------------------------------------------------------------------\u001b[0m",
      "\u001b[1;31mNameError\u001b[0m                                 Traceback (most recent call last)",
      "\u001b[1;32m~\\AppData\\Local\\Temp/ipykernel_4220/1146213912.py\u001b[0m in \u001b[0;36m<module>\u001b[1;34m\u001b[0m\n\u001b[1;32m----> 1\u001b[1;33m \u001b[0mplot_prices\u001b[0m\u001b[1;33m(\u001b[0m\u001b[0mprices\u001b[0m\u001b[1;33m,\u001b[0m \u001b[0msector\u001b[0m\u001b[1;33m)\u001b[0m \u001b[1;31m#Fix gap in data\u001b[0m\u001b[1;33m\u001b[0m\u001b[1;33m\u001b[0m\u001b[0m\n\u001b[0m",
      "\u001b[1;31mNameError\u001b[0m: name 'prices' is not defined"
     ]
    }
   ],
   "source": [
    "plot_prices(prices, sector) #Fix gap in data"
   ]
  },
  {
   "cell_type": "markdown",
   "id": "b02d01d2-4186-4733-a05e-b4d92f7fe3e1",
   "metadata": {},
   "source": [
    "### Returns"
   ]
  },
  {
   "cell_type": "code",
   "execution_count": null,
   "id": "9b94f4f7-b2af-4f41-8965-7766fdee66cb",
   "metadata": {},
   "outputs": [],
   "source": [
    "plot_returns(asset_returns, sector)"
   ]
  },
  {
   "cell_type": "markdown",
   "id": "2bdf22c6-9193-4896-b434-9a229d67155a",
   "metadata": {},
   "source": [
    "### TVL"
   ]
  },
  {
   "cell_type": "code",
   "execution_count": null,
   "id": "2091ff95-7e5f-4504-af6f-5689084fa4e9",
   "metadata": {},
   "outputs": [],
   "source": [
    "plot_tvl(ldata, sector)"
   ]
  },
  {
   "cell_type": "markdown",
   "id": "7fc3ebd8-7164-4f09-b60c-8c19b4fde4b9",
   "metadata": {},
   "source": [
    "## On-chain Metrics"
   ]
  },
  {
   "cell_type": "markdown",
   "id": "bec924b8-115e-47ea-8909-32d8f31af8da",
   "metadata": {},
   "source": [
    "### Active Addresses"
   ]
  },
  {
   "cell_type": "code",
   "execution_count": null,
   "id": "9edbad8d-9cb1-4344-8b55-414ae489c94b",
   "metadata": {},
   "outputs": [],
   "source": [
    "d = m.get_metric_timeseries(list(sector), 'act.addr.cnt', start, end)\n",
    "d.plot.area(figsize = (16, 8))"
   ]
  },
  {
   "cell_type": "markdown",
   "id": "8d97ffc5-59d2-4231-935a-fdc6267e954f",
   "metadata": {},
   "source": [
    "### Transaction Count"
   ]
  },
  {
   "cell_type": "code",
   "execution_count": null,
   "id": "eee66421-8ef9-4459-9e92-e73651764f42",
   "metadata": {},
   "outputs": [],
   "source": [
    "d = m.get_metric_timeseries(list(sector), 'txn.cnt', start, end)\n",
    "d.plot.area(figsize = (16, 8))"
   ]
  },
  {
   "cell_type": "markdown",
   "id": "04ed58b4-dfc9-437b-bd11-ec17c6970a44",
   "metadata": {},
   "source": [
    "### Transaction Volume"
   ]
  },
  {
   "cell_type": "code",
   "execution_count": null,
   "id": "c3a999f8-79b3-48d0-a9df-f0eb56e61778",
   "metadata": {},
   "outputs": [],
   "source": [
    "d = m.get_metric_timeseries(list(sector), 'txn.vol', start, end)\n",
    "d.plot.area(figsize = (16, 8))"
   ]
  }
 ],
 "metadata": {
  "kernelspec": {
   "display_name": "Python 3 (ipykernel)",
   "language": "python",
   "name": "python3"
  },
  "language_info": {
   "codemirror_mode": {
    "name": "ipython",
    "version": 3
   },
   "file_extension": ".py",
   "mimetype": "text/x-python",
   "name": "python",
   "nbconvert_exporter": "python",
   "pygments_lexer": "ipython3",
   "version": "3.7.11"
  }
 },
 "nbformat": 4,
 "nbformat_minor": 5
}
