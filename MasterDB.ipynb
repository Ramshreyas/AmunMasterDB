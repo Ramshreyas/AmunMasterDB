{
 "cells": [
  {
   "cell_type": "code",
   "execution_count": null,
   "id": "cd68e104-05f5-4a31-a7af-964165ac129a",
   "metadata": {},
   "outputs": [],
   "source": [
    "# Common libraries\n",
    "import matplotlib.pyplot as plt\n",
    "from datetime import datetime\n",
    "import requests\n",
    "import json \n",
    "import pandas as pd\n",
    "\n",
    "# API setup\n",
    "from messari.messari import Messari                   # Messari\n",
    "m = Messari('cb0d3a33-c4c5-4b50-9fff-5dce65d44b97')   # Messari\n",
    "from pycoingecko import CoinGeckoAPI                  # Coingecko\n",
    "cg = CoinGeckoAPI()                                   # Coingecko\n",
    "API_KEY = '27mKdxqslM3aORzuco6LoqzKjFc'               # Glassnode"
   ]
  },
  {
   "cell_type": "code",
   "execution_count": null,
   "id": "328af27f-b709-4d48-97ce-f0f3cb55b551",
   "metadata": {},
   "outputs": [],
   "source": [
    "cdata = pd.DataFrame(cg.get_coins_markets('usd'))"
   ]
  },
  {
   "cell_type": "code",
   "execution_count": null,
   "id": "8274b0ba-9906-4518-9da7-0e20de3fd2ba",
   "metadata": {},
   "outputs": [],
   "source": [
    "dfs = [] # list to hold metric DataFrames\n",
    "for i in range(1, 5, 1): \n",
    "    df = m.get_all_assets(page=1, limit=500, asset_metric='marketcap', to_dataframe=True)\n",
    "    dfs.append(df)\n",
    "mdata = pd.concat(dfs)"
   ]
  },
  {
   "cell_type": "code",
   "execution_count": null,
   "id": "6860434d-dae0-4286-98f2-bb8d90c432f8",
   "metadata": {},
   "outputs": [],
   "source": [
    "ldata = pd.DataFrame(requests.get('https://api.llama.fi/protocols').json())"
   ]
  },
  {
   "cell_type": "code",
   "execution_count": null,
   "id": "030cfac2-f3b2-4775-bfdb-4fa3a4df3ad2",
   "metadata": {},
   "outputs": [],
   "source": [
    "gdata = "
   ]
  }
 ],
 "metadata": {
  "kernelspec": {
   "display_name": "Python 3 (ipykernel)",
   "language": "python",
   "name": "python3"
  },
  "language_info": {
   "codemirror_mode": {
    "name": "ipython",
    "version": 3
   },
   "file_extension": ".py",
   "mimetype": "text/x-python",
   "name": "python",
   "nbconvert_exporter": "python",
   "pygments_lexer": "ipython3",
   "version": "3.7.11"
  }
 },
 "nbformat": 4,
 "nbformat_minor": 5
}
